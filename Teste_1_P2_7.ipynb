{
  "nbformat": 4,
  "nbformat_minor": 0,
  "metadata": {
    "colab": {
      "name": "Teste 1 P2.7.ipynb",
      "version": "0.3.2",
      "provenance": [],
      "include_colab_link": true
    },
    "kernelspec": {
      "name": "python2",
      "display_name": "Python 2"
    }
  },
  "cells": [
    {
      "cell_type": "markdown",
      "metadata": {
        "id": "view-in-github",
        "colab_type": "text"
      },
      "source": [
        "<a href=\"https://colab.research.google.com/github/Felipemartinsgoulart/Physics-/blob/master/Teste_1_P2_7.ipynb\" target=\"_parent\"><img src=\"https://colab.research.google.com/assets/colab-badge.svg\" alt=\"Open In Colab\"/></a>"
      ]
    },
    {
      "cell_type": "code",
      "metadata": {
        "id": "WbRUxTrZu4xF",
        "colab_type": "code",
        "colab": {}
      },
      "source": [
        "%matplotlib inline"
      ],
      "execution_count": 0,
      "outputs": []
    },
    {
      "cell_type": "code",
      "metadata": {
        "id": "rNVqtBvevAj4",
        "colab_type": "code",
        "colab": {}
      },
      "source": [
        "from __future__ import division"
      ],
      "execution_count": 0,
      "outputs": []
    },
    {
      "cell_type": "code",
      "metadata": {
        "id": "kHrSBaLlsTkz",
        "colab_type": "code",
        "colab": {}
      },
      "source": [
        "import numpy as np"
      ],
      "execution_count": 0,
      "outputs": []
    },
    {
      "cell_type": "code",
      "metadata": {
        "id": "4IM_nKX7x4sD",
        "colab_type": "code",
        "colab": {}
      },
      "source": [
        "import scipy.sparse"
      ],
      "execution_count": 0,
      "outputs": []
    },
    {
      "cell_type": "code",
      "metadata": {
        "id": "U1Po5sLWuEUN",
        "colab_type": "code",
        "colab": {}
      },
      "source": [
        "import matplotlib.pyplot as plt"
      ],
      "execution_count": 0,
      "outputs": []
    },
    {
      "cell_type": "code",
      "metadata": {
        "id": "XuJc-eY-uIYS",
        "colab_type": "code",
        "colab": {}
      },
      "source": [
        "from numpy.random import rand"
      ],
      "execution_count": 0,
      "outputs": []
    },
    {
      "cell_type": "code",
      "metadata": {
        "id": "04zmiI8xuSIv",
        "colab_type": "code",
        "colab": {}
      },
      "source": [
        "#----------------------------------------------------------------------\n",
        "##  BLOCK OF FUNCTIONS USED IN THE MAIN CODE\n",
        "#----------------------------------------------------------------------\n",
        "def initialstate(N):   \n",
        "    ''' generates a random spin configuration for initial condition'''\n",
        "    state = 2*np.random.randint(2, size=(N,N))-1\n",
        "    return state\n",
        "\n",
        "\n",
        "def mcmove(config, beta):\n",
        "    '''Monte Carlo move using Metropolis algorithm '''\n",
        "    for i in range(N):\n",
        "        for j in range(N):\n",
        "                a = np.random.randint(0, N)\n",
        "                b = np.random.randint(0, N)\n",
        "                s =  config[a, b]\n",
        "                nb = config[(a+1)%N,b] + config[a,(b+1)%N] + config[(a-1)%N,b] + config[a,(b-1)%N]\n",
        "                cost = 2*s*nb\n",
        "                if cost < 0:\n",
        "                    s *= -1\n",
        "                elif rand() < np.exp(-cost*beta):\n",
        "                    s *= -1\n",
        "                config[a, b] = s\n",
        "    return config\n",
        "\n",
        "\n",
        "def calcEnergy(config):\n",
        "    '''Energy of a given configuration'''\n",
        "    energy = 0\n",
        "    for i in range(len(config)):\n",
        "        for j in range(len(config)):\n",
        "            S = config[i,j]\n",
        "            nb = config[(i+1)%N, j] + config[i,(j+1)%N] + config[(i-1)%N, j] + config[i,(j-1)%N]\n",
        "            energy += -nb*S\n",
        "    return energy/4.\n",
        "\n",
        "\n",
        "def calcMag(config):\n",
        "    '''Magnetization of a given configuration'''\n",
        "    mag = np.sum(config)\n",
        "    return mag"
      ],
      "execution_count": 0,
      "outputs": []
    },
    {
      "cell_type": "code",
      "metadata": {
        "id": "oUABdUyVuYQ7",
        "colab_type": "code",
        "colab": {}
      },
      "source": [
        "\n",
        "\n",
        "## change these parameters for a smaller (faster) simulation \n",
        "nt      = 88         #  number of temperature points\n",
        "N       = 16         #  size of the lattice, N x N\n",
        "eqSteps = 1024       #  number of MC sweeps for equilibration\n",
        "mcSteps = 1024       #  number of MC sweeps for calculation\n",
        "\n",
        "T       = np.linspace(1.53, 3.28, nt); \n",
        "E,M,C,X = np.zeros(nt), np.zeros(nt), np.zeros(nt), np.zeros(nt)\n",
        "n1, n2  = 1.0/(mcSteps*N*N), 1.0/(mcSteps*mcSteps*N*N) \n",
        "# divide by number of samples, and by system size to get intensive values\n",
        "\n"
      ],
      "execution_count": 0,
      "outputs": []
    },
    {
      "cell_type": "code",
      "metadata": {
        "id": "gy2e3zlBubRM",
        "colab_type": "code",
        "colab": {
          "base_uri": "https://localhost:8080/",
          "height": 374
        },
        "outputId": "3a989698-69b9-4e8a-fece-55c895be8a0a"
      },
      "source": [
        "\n",
        "\n",
        "#----------------------------------------------------------------------\n",
        "#  MAIN PART OF THE CODE\n",
        "#----------------------------------------------------------------------\n",
        "for tt in range(nt):\n",
        "    E1 = M1 = E2 = M2 = 0\n",
        "    config = initialstate(N)\n",
        "    iT=1.0/T[tt]\n",
        "    iT2=iT*iT\n",
        "    \n",
        "    for i in range(eqSteps):         # equilibrate\n",
        "        mcmove(config, iT)           # Monte Carlo moves\n",
        "\n",
        "    for i in range(mcSteps):\n",
        "        mcmove(config, iT)           \n",
        "        Ene = calcEnergy(config)     # calculate the energy\n",
        "        Mag = calcMag(config)        # calculate the magnetisation\n",
        "\n",
        "        E1 = E1 + Ene\n",
        "        M1 = M1 + Mag\n",
        "        M2 = M2 + Mag*Mag \n",
        "        E2 = E2 + Ene*Ene\n",
        "\n",
        "    E[tt] = n1*E1\n",
        "    M[tt] = n1*M1\n",
        "    C[tt] = (n1*E2 - n2*E1*E1)*iT2\n",
        "    X[tt] = (n1*M2 - n2*M1*M1)*iT\n",
        "\n"
      ],
      "execution_count": 32,
      "outputs": [
        {
          "output_type": "error",
          "ename": "KeyboardInterrupt",
          "evalue": "ignored",
          "traceback": [
            "\u001b[0;31m\u001b[0m",
            "\u001b[0;31mKeyboardInterrupt\u001b[0mTraceback (most recent call last)",
            "\u001b[0;32m<ipython-input-32-5e3b26b0d563>\u001b[0m in \u001b[0;36m<module>\u001b[0;34m()\u001b[0m\n\u001b[1;32m      9\u001b[0m \u001b[0;34m\u001b[0m\u001b[0m\n\u001b[1;32m     10\u001b[0m     \u001b[0;32mfor\u001b[0m \u001b[0mi\u001b[0m \u001b[0;32min\u001b[0m \u001b[0mrange\u001b[0m\u001b[0;34m(\u001b[0m\u001b[0mmcSteps\u001b[0m\u001b[0;34m)\u001b[0m\u001b[0;34m:\u001b[0m\u001b[0;34m\u001b[0m\u001b[0;34m\u001b[0m\u001b[0m\n\u001b[0;32m---> 11\u001b[0;31m         \u001b[0mmcmove\u001b[0m\u001b[0;34m(\u001b[0m\u001b[0mconfig\u001b[0m\u001b[0;34m,\u001b[0m \u001b[0miT\u001b[0m\u001b[0;34m)\u001b[0m\u001b[0;34m\u001b[0m\u001b[0;34m\u001b[0m\u001b[0m\n\u001b[0m\u001b[1;32m     12\u001b[0m         \u001b[0mEne\u001b[0m \u001b[0;34m=\u001b[0m \u001b[0mcalcEnergy\u001b[0m\u001b[0;34m(\u001b[0m\u001b[0mconfig\u001b[0m\u001b[0;34m)\u001b[0m     \u001b[0;31m# calculate the energy\u001b[0m\u001b[0;34m\u001b[0m\u001b[0;34m\u001b[0m\u001b[0m\n\u001b[1;32m     13\u001b[0m         \u001b[0mMag\u001b[0m \u001b[0;34m=\u001b[0m \u001b[0mcalcMag\u001b[0m\u001b[0;34m(\u001b[0m\u001b[0mconfig\u001b[0m\u001b[0;34m)\u001b[0m        \u001b[0;31m# calculate the magnetisation\u001b[0m\u001b[0;34m\u001b[0m\u001b[0;34m\u001b[0m\u001b[0m\n",
            "\u001b[0;32m<ipython-input-7-843abd5e1ad7>\u001b[0m in \u001b[0;36mmcmove\u001b[0;34m(config, beta)\u001b[0m\n\u001b[1;32m      9\u001b[0m     \u001b[0;32mfor\u001b[0m \u001b[0mi\u001b[0m \u001b[0;32min\u001b[0m \u001b[0mrange\u001b[0m\u001b[0;34m(\u001b[0m\u001b[0mN\u001b[0m\u001b[0;34m)\u001b[0m\u001b[0;34m:\u001b[0m\u001b[0;34m\u001b[0m\u001b[0;34m\u001b[0m\u001b[0m\n\u001b[1;32m     10\u001b[0m         \u001b[0;32mfor\u001b[0m \u001b[0mj\u001b[0m \u001b[0;32min\u001b[0m \u001b[0mrange\u001b[0m\u001b[0;34m(\u001b[0m\u001b[0mN\u001b[0m\u001b[0;34m)\u001b[0m\u001b[0;34m:\u001b[0m\u001b[0;34m\u001b[0m\u001b[0;34m\u001b[0m\u001b[0m\n\u001b[0;32m---> 11\u001b[0;31m                 \u001b[0ma\u001b[0m \u001b[0;34m=\u001b[0m \u001b[0mnp\u001b[0m\u001b[0;34m.\u001b[0m\u001b[0mrandom\u001b[0m\u001b[0;34m.\u001b[0m\u001b[0mrandint\u001b[0m\u001b[0;34m(\u001b[0m\u001b[0;36m0\u001b[0m\u001b[0;34m,\u001b[0m \u001b[0mN\u001b[0m\u001b[0;34m)\u001b[0m\u001b[0;34m\u001b[0m\u001b[0;34m\u001b[0m\u001b[0m\n\u001b[0m\u001b[1;32m     12\u001b[0m                 \u001b[0mb\u001b[0m \u001b[0;34m=\u001b[0m \u001b[0mnp\u001b[0m\u001b[0;34m.\u001b[0m\u001b[0mrandom\u001b[0m\u001b[0;34m.\u001b[0m\u001b[0mrandint\u001b[0m\u001b[0;34m(\u001b[0m\u001b[0;36m0\u001b[0m\u001b[0;34m,\u001b[0m \u001b[0mN\u001b[0m\u001b[0;34m)\u001b[0m\u001b[0;34m\u001b[0m\u001b[0;34m\u001b[0m\u001b[0m\n\u001b[1;32m     13\u001b[0m                 \u001b[0ms\u001b[0m \u001b[0;34m=\u001b[0m  \u001b[0mconfig\u001b[0m\u001b[0;34m[\u001b[0m\u001b[0ma\u001b[0m\u001b[0;34m,\u001b[0m \u001b[0mb\u001b[0m\u001b[0;34m]\u001b[0m\u001b[0;34m\u001b[0m\u001b[0;34m\u001b[0m\u001b[0m\n",
            "\u001b[0;31mKeyboardInterrupt\u001b[0m: "
          ]
        }
      ]
    },
    {
      "cell_type": "code",
      "metadata": {
        "id": "Uh2VI75cvM7N",
        "colab_type": "code",
        "colab": {
          "base_uri": "https://localhost:8080/",
          "height": 638
        },
        "outputId": "4f9ecf7f-b3a3-4b4d-b547-52504af06639"
      },
      "source": [
        "f = plt.figure(figsize=(18, 10)); # plot the calculated values    \n",
        "\n",
        "sp =  f.add_subplot(2, 2, 1 );\n",
        "plt.scatter(T, E, s=50, marker='o', color='IndianRed')\n",
        "plt.xlabel(\"Temperature (T)\", fontsize=20);\n",
        "plt.ylabel(\"Energy \", fontsize=20);         plt.axis('tight');\n",
        "\n",
        "sp =  f.add_subplot(2, 2, 2 );\n",
        "plt.scatter(T, abs(M), s=50, marker='o', color='RoyalBlue')\n",
        "plt.xlabel(\"Temperature (T)\", fontsize=20); \n",
        "plt.ylabel(\"Magnetization \", fontsize=20);   plt.axis('tight');\n",
        "\n",
        "sp =  f.add_subplot(2, 2, 3 );\n",
        "plt.scatter(T, C, s=50, marker='o', color='IndianRed')\n",
        "plt.xlabel(\"Temperature (T)\", fontsize=20);  \n",
        "plt.ylabel(\"Specific Heat \", fontsize=20);   plt.axis('tight');   \n",
        "\n",
        "sp =  f.add_subplot(2, 2, 4 );\n",
        "plt.scatter(T, X, s=50, marker='o', color='RoyalBlue')\n",
        "plt.xlabel(\"Temperature (T)\", fontsize=20); \n",
        "plt.ylabel(\"Susceptibility\", fontsize=20);   plt.axis('tight');\n",
        "\n"
      ],
      "execution_count": 21,
      "outputs": [
        {
          "output_type": "display_data",
          "data": {
            "image/png": "[encoded data removed]",
            "text/plain": [
              "<Figure size 1296x720 with 4 Axes>"
            ]
          },
          "metadata": {
            "tags": []
          }
        }
      ]
    },
    {
      "cell_type": "code",
      "metadata": {
        "id": "MBoU1VM1viJJ",
        "colab_type": "code",
        "colab": {}
      },
      "source": [
        "\n",
        "\n",
        "# change in energy is 8J\n",
        "#    d          d               u          u        \n",
        "# d  d  d => d  u  d   or    u  u  u => u  d  u  \n",
        "#    d          d               u          u \n",
        "#     \n",
        "# change in energy is 4J\n",
        "#    d          d               u          u        \n",
        "# d  d  u => d  u  u   or    u  u  d => u  d  d   \n",
        "#    d          d               u          u \n",
        "#     \n",
        "# Here u and d are used for up and down configuration of the spins\n",
        "\n"
      ],
      "execution_count": 0,
      "outputs": []
    },
    {
      "cell_type": "markdown",
      "metadata": {
        "id": "VCb1qitWvloi",
        "colab_type": "text"
      },
      "source": [
        "# Snapshots of the configurations\n",
        "We start with a random initial condition and then plot the instantaneous configurations, as the system coarsens to its equilibrium state."
      ]
    },
    {
      "cell_type": "code",
      "metadata": {
        "id": "qkmQWXGfvvmD",
        "colab_type": "code",
        "colab": {}
      },
      "source": [
        "class Ising():\n",
        "    ''' Simulating the Ising model '''    \n",
        "    ## monte carlo moves\n",
        "    def mcmove(self, config, N, beta):\n",
        "        ''' This is to execute the monte carlo moves using \n",
        "        Metropolis algorithm such that detailed\n",
        "        balance condition is satisified'''\n",
        "        for i in range(N):\n",
        "            for j in range(N):            \n",
        "                    a = np.random.randint(0, N)\n",
        "                    b = np.random.randint(0, N)\n",
        "                    s =  config[a, b]\n",
        "                    nb = config[(a+1)%N,b] + config[a,(b+1)%N] + config[(a-1)%N,b] + config[a,(b-1)%N]\n",
        "                    cost = 2*s*nb\n",
        "                    if cost < 0:\t\n",
        "                        s *= -1\n",
        "                    elif rand() < np.exp(-cost*beta):\n",
        "                        s *= -1\n",
        "                    config[a, b] = s\n",
        "        return config\n",
        "    \n",
        "    def simulate(self):   \n",
        "        ''' This module simulates the Ising model'''\n",
        "        N, temp     = 64, .4        # Initialse the lattice\n",
        "        config = 2*np.random.randint(2, size=(N,N))-1\n",
        "        f = plt.figure(figsize=(15, 15), dpi=80);    \n",
        "        self.configPlot(f, config, 0, N, 1);\n",
        "        \n",
        "        msrmnt = 1001\n",
        "        for i in range(msrmnt):\n",
        "            self.mcmove(config, N, 1.0/temp)\n",
        "            if i == 1:       self.configPlot(f, config, i, N, 2);\n",
        "            if i == 4:       self.configPlot(f, config, i, N, 3);\n",
        "            if i == 32:      self.configPlot(f, config, i, N, 4);\n",
        "            if i == 100:     self.configPlot(f, config, i, N, 5);\n",
        "            if i == 1000:    self.configPlot(f, config, i, N, 6);\n",
        "                 \n",
        "                    \n",
        "    def configPlot(self, f, config, i, N, n_):\n",
        "        ''' This modules plts the configuration once passed to it along with time etc '''\n",
        "        X, Y = np.meshgrid(range(N), range(N))\n",
        "        sp =  f.add_subplot(3, 3, n_ )  \n",
        "        plt.setp(sp.get_yticklabels(), visible=False)\n",
        "        plt.setp(sp.get_xticklabels(), visible=False)      \n",
        "        plt.pcolormesh(X, Y, config, cmap=plt.cm.RdBu);\n",
        "        plt.title('Time=%d'%i); plt.axis('tight')    \n",
        "    plt.show()"
      ],
      "execution_count": 0,
      "outputs": []
    },
    {
      "cell_type": "code",
      "metadata": {
        "id": "bJMmb-kuv4lA",
        "colab_type": "code",
        "colab": {}
      },
      "source": [
        "rm = Ising()"
      ],
      "execution_count": 0,
      "outputs": []
    },
    {
      "cell_type": "code",
      "metadata": {
        "id": "eevV8LbHv7Zd",
        "colab_type": "code",
        "colab": {
          "base_uri": "https://localhost:8080/",
          "height": 967
        },
        "outputId": "cc1bcf7d-2e1c-44d5-897e-f016bbe318d1"
      },
      "source": [
        "rm.simulate()"
      ],
      "execution_count": 26,
      "outputs": [
        {
          "output_type": "error",
          "ename": "KeyboardInterrupt",
          "evalue": "ignored",
          "traceback": [
            "\u001b[0;31m\u001b[0m",
            "\u001b[0;31mKeyboardInterrupt\u001b[0mTraceback (most recent call last)",
            "\u001b[0;32m<ipython-input-26-f26fa75e6783>\u001b[0m in \u001b[0;36m<module>\u001b[0;34m()\u001b[0m\n\u001b[0;32m----> 1\u001b[0;31m \u001b[0mrm\u001b[0m\u001b[0;34m.\u001b[0m\u001b[0msimulate\u001b[0m\u001b[0;34m(\u001b[0m\u001b[0;34m)\u001b[0m\u001b[0;34m\u001b[0m\u001b[0;34m\u001b[0m\u001b[0m\n\u001b[0m",
            "\u001b[0;32m<ipython-input-24-7d279d8d182e>\u001b[0m in \u001b[0;36msimulate\u001b[0;34m(self)\u001b[0m\n\u001b[1;32m     36\u001b[0m         \u001b[0mmsrmnt\u001b[0m \u001b[0;34m=\u001b[0m \u001b[0;36m1001\u001b[0m\u001b[0;34m\u001b[0m\u001b[0;34m\u001b[0m\u001b[0m\n\u001b[1;32m     37\u001b[0m         \u001b[0;32mfor\u001b[0m \u001b[0mi\u001b[0m \u001b[0;32min\u001b[0m \u001b[0mrange\u001b[0m\u001b[0;34m(\u001b[0m\u001b[0mmsrmnt\u001b[0m\u001b[0;34m)\u001b[0m\u001b[0;34m:\u001b[0m\u001b[0;34m\u001b[0m\u001b[0;34m\u001b[0m\u001b[0m\n\u001b[0;32m---> 38\u001b[0;31m             \u001b[0mself\u001b[0m\u001b[0;34m.\u001b[0m\u001b[0mmcmove\u001b[0m\u001b[0;34m(\u001b[0m\u001b[0mconfig\u001b[0m\u001b[0;34m,\u001b[0m \u001b[0mN\u001b[0m\u001b[0;34m,\u001b[0m \u001b[0;36m1.0\u001b[0m\u001b[0;34m/\u001b[0m\u001b[0mtemp\u001b[0m\u001b[0;34m)\u001b[0m\u001b[0;34m\u001b[0m\u001b[0;34m\u001b[0m\u001b[0m\n\u001b[0m\u001b[1;32m     39\u001b[0m             \u001b[0;32mif\u001b[0m \u001b[0mi\u001b[0m \u001b[0;34m==\u001b[0m \u001b[0;36m1\u001b[0m\u001b[0;34m:\u001b[0m       \u001b[0mself\u001b[0m\u001b[0;34m.\u001b[0m\u001b[0mconfigPlot\u001b[0m\u001b[0;34m(\u001b[0m\u001b[0mf\u001b[0m\u001b[0;34m,\u001b[0m \u001b[0mconfig\u001b[0m\u001b[0;34m,\u001b[0m \u001b[0mi\u001b[0m\u001b[0;34m,\u001b[0m \u001b[0mN\u001b[0m\u001b[0;34m,\u001b[0m \u001b[0;36m2\u001b[0m\u001b[0;34m)\u001b[0m\u001b[0;34m;\u001b[0m\u001b[0;34m\u001b[0m\u001b[0;34m\u001b[0m\u001b[0m\n\u001b[1;32m     40\u001b[0m             \u001b[0;32mif\u001b[0m \u001b[0mi\u001b[0m \u001b[0;34m==\u001b[0m \u001b[0;36m4\u001b[0m\u001b[0;34m:\u001b[0m       \u001b[0mself\u001b[0m\u001b[0;34m.\u001b[0m\u001b[0mconfigPlot\u001b[0m\u001b[0;34m(\u001b[0m\u001b[0mf\u001b[0m\u001b[0;34m,\u001b[0m \u001b[0mconfig\u001b[0m\u001b[0;34m,\u001b[0m \u001b[0mi\u001b[0m\u001b[0;34m,\u001b[0m \u001b[0mN\u001b[0m\u001b[0;34m,\u001b[0m \u001b[0;36m3\u001b[0m\u001b[0;34m)\u001b[0m\u001b[0;34m;\u001b[0m\u001b[0;34m\u001b[0m\u001b[0;34m\u001b[0m\u001b[0m\n",
            "\u001b[0;32m<ipython-input-24-7d279d8d182e>\u001b[0m in \u001b[0;36mmcmove\u001b[0;34m(self, config, N, beta)\u001b[0m\n\u001b[1;32m     22\u001b[0m                     \u001b[0;32mif\u001b[0m \u001b[0mcost\u001b[0m \u001b[0;34m<\u001b[0m \u001b[0;36m0\u001b[0m\u001b[0;34m:\u001b[0m\u001b[0;34m\u001b[0m\u001b[0;34m\u001b[0m\u001b[0m\n\u001b[1;32m     23\u001b[0m                         \u001b[0ms\u001b[0m \u001b[0;34m*=\u001b[0m \u001b[0;34m-\u001b[0m\u001b[0;36m1\u001b[0m\u001b[0;34m\u001b[0m\u001b[0;34m\u001b[0m\u001b[0m\n\u001b[0;32m---> 24\u001b[0;31m                     \u001b[0;32melif\u001b[0m \u001b[0mrand\u001b[0m\u001b[0;34m(\u001b[0m\u001b[0;34m)\u001b[0m \u001b[0;34m<\u001b[0m \u001b[0mnp\u001b[0m\u001b[0;34m.\u001b[0m\u001b[0mexp\u001b[0m\u001b[0;34m(\u001b[0m\u001b[0;34m-\u001b[0m\u001b[0mcost\u001b[0m\u001b[0;34m*\u001b[0m\u001b[0mbeta\u001b[0m\u001b[0;34m)\u001b[0m\u001b[0;34m:\u001b[0m\u001b[0;34m\u001b[0m\u001b[0;34m\u001b[0m\u001b[0m\n\u001b[0m\u001b[1;32m     25\u001b[0m                         \u001b[0ms\u001b[0m \u001b[0;34m*=\u001b[0m \u001b[0;34m-\u001b[0m\u001b[0;36m1\u001b[0m\u001b[0;34m\u001b[0m\u001b[0;34m\u001b[0m\u001b[0m\n\u001b[1;32m     26\u001b[0m                     \u001b[0mconfig\u001b[0m\u001b[0;34m[\u001b[0m\u001b[0ma\u001b[0m\u001b[0;34m,\u001b[0m \u001b[0mb\u001b[0m\u001b[0;34m]\u001b[0m \u001b[0;34m=\u001b[0m \u001b[0ms\u001b[0m\u001b[0;34m\u001b[0m\u001b[0;34m\u001b[0m\u001b[0m\n",
            "\u001b[0;31mKeyboardInterrupt\u001b[0m: "
          ]
        },
        {
          "output_type": "display_data",
          "data": {
            "image/png": "[encoded data removed]",
            "text/plain": [
              "<Figure size 1200x1200 with 5 Axes>"
            ]
          },
          "metadata": {
            "tags": []
          }
        }
      ]
    },
    {
      "cell_type": "code",
      "metadata": {
        "id": "JP25genFxGYz",
        "colab_type": "code",
        "colab": {}
      },
      "source": [
        "a,b, k = 0, 1.0, 100.0\n",
        "dh, dt = 1.0, 1e-3\n",
        "Ng, Tf = 256, 10001\n",
        "\n",
        "class TDGL():\n",
        "    '''\n",
        "    Class to solve a PDE \n",
        "    '''\n",
        "    def mu(self, u):\n",
        "        return a*u + b*u*u*u \n",
        "\n",
        "    def laplacian(self, Ng):\n",
        "        '''Construct a sparse matrix that applies the 5-point Laplacian discretization'''\n",
        "        e=np.ones(Ng**2)\n",
        "        e2=([1]*(Ng-1)+[0])*Ng\n",
        "        e3=([0]+[1]*(Ng-1))*Ng\n",
        "        h=dh\n",
        "        A=spdiags([-4*e,e2,e3,e,e],[0,-1,1,-Ng,Ng],Ng**2,Ng**2)\n",
        "        A/=h**2\n",
        "        return A\n",
        "\n",
        "    def integrate(self, L, x, y, u):\n",
        "        '''  simulates the equation and plots it at different instants '''\n",
        "        \n",
        "        f = plt.figure(figsize=(15, 15), dpi=80);    \n",
        "\n",
        "        for i in range(Tf):          \n",
        "            u = u - dt*(self.mu(u) - k*L.dot(u))\n",
        "            \n",
        "            if (i==0):      self.configPlot(x, y, u, f, 1, i);\n",
        "            if (i==1):      self.configPlot(x, y, u, f, 2, i);\n",
        "            if (i==10):     self.configPlot(x, y, u, f, 3, i);\n",
        "            if (i==100):    self.configPlot(x, y, u, f, 4, i);\n",
        "            if (i==1000):   self.configPlot(x, y, u, f, 5, i);\n",
        "            if (i==10000):  self.configPlot(x, y, u, f, 6, i);\n",
        "     \n",
        "    def configPlot(self, x, y, u,f, n_, i):\n",
        "        U= u.reshape((Ng, Ng))\n",
        "        sp =  f.add_subplot(3, 3, n_ )  \n",
        "        plt.setp(sp.get_yticklabels(), visible=False)\n",
        "        plt.setp(sp.get_xticklabels(), visible=False)\n",
        "        plt.pcolormesh(x,y,U, cmap=plt.cm.RdBu);\n",
        "        plt.title('Time=%d'%i)\n",
        "    plt.show()"
      ],
      "execution_count": 0,
      "outputs": []
    },
    {
      "cell_type": "code",
      "metadata": {
        "id": "fxpUX58gxKd0",
        "colab_type": "code",
        "colab": {
          "base_uri": "https://localhost:8080/",
          "height": 374
        },
        "outputId": "a0550357-03b8-4443-ad4c-5584abd061a6"
      },
      "source": [
        "rm = TDGL()   # instantiate the class\n",
        "\n",
        "# generate the grid and initialise the field\n",
        "x = np.linspace(-1,1,Ng)\n",
        "y = np.linspace(-1,1,Ng)\n",
        "X, Y = np.meshgrid(x, y)\n",
        "\n",
        "u=np.random.randn(Ng*Ng, 1);  # Initial data\n",
        "L = rm.laplacian(Ng)         # construct the laplacian\n",
        "rm.integrate(L, x, y, u)    # simulate\n",
        "\n",
        "#simulation completed!!"
      ],
      "execution_count": 36,
      "outputs": [
        {
          "output_type": "error",
          "ename": "NameError",
          "evalue": "ignored",
          "traceback": [
            "\u001b[0;31m\u001b[0m",
            "\u001b[0;31mNameError\u001b[0mTraceback (most recent call last)",
            "\u001b[0;32m<ipython-input-36-0ef303b698b7>\u001b[0m in \u001b[0;36m<module>\u001b[0;34m()\u001b[0m\n\u001b[1;32m      7\u001b[0m \u001b[0;34m\u001b[0m\u001b[0m\n\u001b[1;32m      8\u001b[0m \u001b[0mu\u001b[0m\u001b[0;34m=\u001b[0m\u001b[0mnp\u001b[0m\u001b[0;34m.\u001b[0m\u001b[0mrandom\u001b[0m\u001b[0;34m.\u001b[0m\u001b[0mrandn\u001b[0m\u001b[0;34m(\u001b[0m\u001b[0mNg\u001b[0m\u001b[0;34m*\u001b[0m\u001b[0mNg\u001b[0m\u001b[0;34m,\u001b[0m \u001b[0;36m1\u001b[0m\u001b[0;34m)\u001b[0m\u001b[0;34m;\u001b[0m  \u001b[0;31m# Initial data\u001b[0m\u001b[0;34m\u001b[0m\u001b[0;34m\u001b[0m\u001b[0m\n\u001b[0;32m----> 9\u001b[0;31m \u001b[0mL\u001b[0m \u001b[0;34m=\u001b[0m \u001b[0mrm\u001b[0m\u001b[0;34m.\u001b[0m\u001b[0mlaplacian\u001b[0m\u001b[0;34m(\u001b[0m\u001b[0mNg\u001b[0m\u001b[0;34m)\u001b[0m         \u001b[0;31m# construct the laplacian\u001b[0m\u001b[0;34m\u001b[0m\u001b[0;34m\u001b[0m\u001b[0m\n\u001b[0m\u001b[1;32m     10\u001b[0m \u001b[0mrm\u001b[0m\u001b[0;34m.\u001b[0m\u001b[0mintegrate\u001b[0m\u001b[0;34m(\u001b[0m\u001b[0mL\u001b[0m\u001b[0;34m,\u001b[0m \u001b[0mx\u001b[0m\u001b[0;34m,\u001b[0m \u001b[0my\u001b[0m\u001b[0;34m,\u001b[0m \u001b[0mu\u001b[0m\u001b[0;34m)\u001b[0m    \u001b[0;31m# simulate\u001b[0m\u001b[0;34m\u001b[0m\u001b[0;34m\u001b[0m\u001b[0m\n\u001b[1;32m     11\u001b[0m \u001b[0;34m\u001b[0m\u001b[0m\n",
            "\u001b[0;32m<ipython-input-35-79147e8d320c>\u001b[0m in \u001b[0;36mlaplacian\u001b[0;34m(self, Ng)\u001b[0m\n\u001b[1;32m     16\u001b[0m         \u001b[0me3\u001b[0m\u001b[0;34m=\u001b[0m\u001b[0;34m(\u001b[0m\u001b[0;34m[\u001b[0m\u001b[0;36m0\u001b[0m\u001b[0;34m]\u001b[0m\u001b[0;34m+\u001b[0m\u001b[0;34m[\u001b[0m\u001b[0;36m1\u001b[0m\u001b[0;34m]\u001b[0m\u001b[0;34m*\u001b[0m\u001b[0;34m(\u001b[0m\u001b[0mNg\u001b[0m\u001b[0;34m-\u001b[0m\u001b[0;36m1\u001b[0m\u001b[0;34m)\u001b[0m\u001b[0;34m)\u001b[0m\u001b[0;34m*\u001b[0m\u001b[0mNg\u001b[0m\u001b[0;34m\u001b[0m\u001b[0;34m\u001b[0m\u001b[0m\n\u001b[1;32m     17\u001b[0m         \u001b[0mh\u001b[0m\u001b[0;34m=\u001b[0m\u001b[0mdh\u001b[0m\u001b[0;34m\u001b[0m\u001b[0;34m\u001b[0m\u001b[0m\n\u001b[0;32m---> 18\u001b[0;31m         \u001b[0mA\u001b[0m\u001b[0;34m=\u001b[0m\u001b[0mspdiags\u001b[0m\u001b[0;34m(\u001b[0m\u001b[0;34m[\u001b[0m\u001b[0;34m-\u001b[0m\u001b[0;36m4\u001b[0m\u001b[0;34m*\u001b[0m\u001b[0me\u001b[0m\u001b[0;34m,\u001b[0m\u001b[0me2\u001b[0m\u001b[0;34m,\u001b[0m\u001b[0me3\u001b[0m\u001b[0;34m,\u001b[0m\u001b[0me\u001b[0m\u001b[0;34m,\u001b[0m\u001b[0me\u001b[0m\u001b[0;34m]\u001b[0m\u001b[0;34m,\u001b[0m\u001b[0;34m[\u001b[0m\u001b[0;36m0\u001b[0m\u001b[0;34m,\u001b[0m\u001b[0;34m-\u001b[0m\u001b[0;36m1\u001b[0m\u001b[0;34m,\u001b[0m\u001b[0;36m1\u001b[0m\u001b[0;34m,\u001b[0m\u001b[0;34m-\u001b[0m\u001b[0mNg\u001b[0m\u001b[0;34m,\u001b[0m\u001b[0mNg\u001b[0m\u001b[0;34m]\u001b[0m\u001b[0;34m,\u001b[0m\u001b[0mNg\u001b[0m\u001b[0;34m**\u001b[0m\u001b[0;36m2\u001b[0m\u001b[0;34m,\u001b[0m\u001b[0mNg\u001b[0m\u001b[0;34m**\u001b[0m\u001b[0;36m2\u001b[0m\u001b[0;34m)\u001b[0m\u001b[0;34m\u001b[0m\u001b[0;34m\u001b[0m\u001b[0m\n\u001b[0m\u001b[1;32m     19\u001b[0m         \u001b[0mA\u001b[0m\u001b[0;34m/=\u001b[0m\u001b[0mh\u001b[0m\u001b[0;34m**\u001b[0m\u001b[0;36m2\u001b[0m\u001b[0;34m\u001b[0m\u001b[0;34m\u001b[0m\u001b[0m\n\u001b[1;32m     20\u001b[0m         \u001b[0;32mreturn\u001b[0m \u001b[0mA\u001b[0m\u001b[0;34m\u001b[0m\u001b[0;34m\u001b[0m\u001b[0m\n",
            "\u001b[0;31mNameError\u001b[0m: global name 'spdiags' is not defined"
          ]
        }
      ]
    }
  ]
}