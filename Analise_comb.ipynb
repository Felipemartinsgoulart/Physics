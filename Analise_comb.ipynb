{
  "nbformat": 4,
  "nbformat_minor": 0,
  "metadata": {
    "colab": {
      "name": "Analise_comb.ipynb",
      "provenance": [],
      "collapsed_sections": [],
      "authorship_tag": "ABX9TyP3vlo3gmXmLy3drhMSVPsQ",
      "include_colab_link": true
    },
    "kernelspec": {
      "name": "python3",
      "display_name": "Python 3"
    }
  },
  "cells": [
    {
      "cell_type": "markdown",
      "metadata": {
        "id": "view-in-github",
        "colab_type": "text"
      },
      "source": [
        "<a href=\"https://colab.research.google.com/github/Felipemartinsgoulart/Physics/blob/master/Analise_comb.ipynb\" target=\"_parent\"><img src=\"https://colab.research.google.com/assets/colab-badge.svg\" alt=\"Open In Colab\"/></a>"
      ]
    },
    {
      "cell_type": "code",
      "metadata": {
        "id": "66CBU9W-hFsD",
        "colab_type": "code",
        "colab": {}
      },
      "source": [
        " \n",
        "def permute(nums):\n",
        "  result_perms = [[]]\n",
        "  for n in nums:\n",
        "    new_perms = []\n",
        "    for perm in result_perms:\n",
        "      for i in range(len(perm)+1):\n",
        "        new_perms.append(perm[:i] + [n] + perm[i:] )\n",
        "        result_perms = new_perms\n",
        "  return result_perms"
      ],
      "execution_count": 24,
      "outputs": []
    },
    {
      "cell_type": "code",
      "metadata": {
        "id": "VrHK4BI8hSTZ",
        "colab_type": "code",
        "colab": {
          "base_uri": "https://localhost:8080/",
          "height": 88
        },
        "outputId": "f8068422-ca34-4683-aa78-c80866ecfa68"
      },
      "source": [
        "matriz = [\"g\", \"a\", \"t\", \"o\" ]\n",
        "print(\"Matriz original: \",matriz )\n",
        "print(\"Matrizes a partir da matriz original:\\n\",permute(matriz))"
      ],
      "execution_count": 25,
      "outputs": [
        {
          "output_type": "stream",
          "text": [
            "Matriz original:  ['g', 'a', 't', 'o']\n",
            "Matrizes a partir da matriz original:\n",
            " [['o', 't', 'a', 'g'], ['t', 'o', 'a', 'g'], ['t', 'a', 'o', 'g'], ['t', 'a', 'g', 'o'], ['o', 'a', 't', 'g'], ['a', 'o', 't', 'g'], ['a', 't', 'o', 'g'], ['a', 't', 'g', 'o'], ['o', 'a', 'g', 't'], ['a', 'o', 'g', 't'], ['a', 'g', 'o', 't'], ['a', 'g', 't', 'o'], ['o', 't', 'g', 'a'], ['t', 'o', 'g', 'a'], ['t', 'g', 'o', 'a'], ['t', 'g', 'a', 'o'], ['o', 'g', 't', 'a'], ['g', 'o', 't', 'a'], ['g', 't', 'o', 'a'], ['g', 't', 'a', 'o'], ['o', 'g', 'a', 't'], ['g', 'o', 'a', 't'], ['g', 'a', 'o', 't'], ['g', 'a', 't', 'o']]\n"
          ],
          "name": "stdout"
        }
      ]
    }
  ]
}